{
 "cells": [
  {
   "cell_type": "code",
   "execution_count": 1,
   "metadata": {},
   "outputs": [],
   "source": [
    "import os\n",
    "import pickle\n",
    "import glob\n",
    "import pandas as pd\n",
    "import numpy as np\n",
    "import matplotlib.pyplot as plt\n",
    "import seaborn as sns\n"
   ]
  },
  {
   "cell_type": "code",
   "execution_count": 2,
   "metadata": {},
   "outputs": [],
   "source": [
    "import datetime\n",
    "from dateutil.relativedelta import relativedelta\n",
    "\n",
    "def get_last_day_of_the_quarter(dt):\n",
    "    current_quarter = int((dt.month - 1) / 3 + 1)\n",
    "    return datetime.date(dt.year, 3 * current_quarter, 1) + \\\n",
    "        relativedelta(months=1) - relativedelta(days=1)\n",
    "\n",
    "def get_last_day_of_the_month(dt):\n",
    "    return datetime.date(dt.year, dt.month, 1) + \\\n",
    "        relativedelta(months=1) - relativedelta(days=1)\n"
   ]
  },
  {
   "cell_type": "code",
   "execution_count": 3,
   "metadata": {},
   "outputs": [
    {
     "name": "stdout",
     "output_type": "stream",
     "text": [
      "latest dataset: output_2022-02-08T20:02:28/raw_data.pkl\n"
     ]
    }
   ],
   "source": [
    "files = glob.glob('**/raw_data.pkl')\n",
    "files.sort(key=os.path.getmtime)\n",
    "\n",
    "print(f'latest dataset: {files[-1]}')\n",
    "dataset = pickle.load(open(files[-1], 'rb'))"
   ]
  },
  {
   "cell_type": "code",
   "execution_count": 9,
   "metadata": {},
   "outputs": [],
   "source": [
    "\n",
    "def postprocess_time(dataset):\n",
    "    result = {}\n",
    "    for index, df in dataset.items():\n",
    "        if 'time' not in index:\n",
    "            result[index] = df\n",
    "            continue\n",
    "        if 'fund_id' in index:\n",
    "            time_processor = get_last_day_of_the_quarter\n",
    "        else:\n",
    "            time_processor = get_last_day_of_the_month\n",
    "\n",
    "        melt = df.reset_index().melt(id_vars=index).dropna()\n",
    "        melt.time = melt.time.apply(time_processor)\n",
    "        melt = melt.groupby(list(index)).last()\n",
    "\n",
    "        result[index] = melt\n",
    "\n",
    "    return result\n",
    "    "
   ]
  },
  {
   "cell_type": "code",
   "execution_count": null,
   "metadata": {},
   "outputs": [],
   "source": [
    "dataset_postprocessed = postprocess_time(dataset)"
   ]
  },
  {
   "cell_type": "code",
   "execution_count": null,
   "metadata": {},
   "outputs": [],
   "source": []
  }
 ],
 "metadata": {
  "interpreter": {
   "hash": "1eb87eb7452502a46d3f6c0b2d5433ef7949580f8df321e25bf7dfb9b2eefde0"
  },
  "kernelspec": {
   "display_name": "Python 3.7.6 ('base')",
   "language": "python",
   "name": "python3"
  },
  "language_info": {
   "codemirror_mode": {
    "name": "ipython",
    "version": 3
   },
   "file_extension": ".py",
   "mimetype": "text/x-python",
   "name": "python",
   "nbconvert_exporter": "python",
   "pygments_lexer": "ipython3",
   "version": "3.7.6"
  },
  "orig_nbformat": 4
 },
 "nbformat": 4,
 "nbformat_minor": 2
}
